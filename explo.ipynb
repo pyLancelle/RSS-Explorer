{
 "cells": [
  {
   "cell_type": "code",
   "execution_count": 1,
   "metadata": {},
   "outputs": [],
   "source": [
    "import feedparser\n",
    "import json"
   ]
  },
  {
   "cell_type": "code",
   "execution_count": 5,
   "metadata": {},
   "outputs": [],
   "source": [
    "f = open('feeds.json')\n",
    "\n",
    "\n",
    "data = json.load(f)"
   ]
  },
  {
   "cell_type": "code",
   "execution_count": 6,
   "metadata": {},
   "outputs": [
    {
     "name": "stdout",
     "output_type": "stream",
     "text": [
      "feeds_type\n"
     ]
    }
   ],
   "source": [
    "for a in data:\n",
    "    print(a)"
   ]
  },
  {
   "cell_type": "code",
   "execution_count": 16,
   "metadata": {},
   "outputs": [
    {
     "name": "stdout",
     "output_type": "stream",
     "text": [
      "[{'podcast': 'Colinterview', 'url': 'https://anchor.fm/s/58c40bdc/podcast/rss', 'tags': ['football']}, {'podcast': 'Speakeasy by /influx', 'url': 'https://feeds.acast.com/public/shows/628df9fa4d69b700130ba262', 'tags': ['tech', 'dev perso']}]\n"
     ]
    }
   ],
   "source": [
    "f = open('feeds.json')\n",
    "\n",
    "\n",
    "data = json.load(f)\n",
    "\n",
    "\n",
    "for s in data['feeds_type']:\n",
    "    if s['support'] == 'Podcast':\n",
    "        print(s['podcasts'])"
   ]
  },
  {
   "cell_type": "code",
   "execution_count": 2,
   "metadata": {},
   "outputs": [
    {
     "name": "stdout",
     "output_type": "stream",
     "text": [
      "dict_keys(['title', 'title_detail', 'links', 'link', 'icon', 'logo', 'id', 'guidislink', 'updated', 'updated_parsed', 'authors', 'author_detail', 'author'])\n"
     ]
    }
   ],
   "source": [
    "# example yt feed : https://www.youtube.com/feeds/videos.xml?channel_id=UCVwG9JHqGLfEO-4TkF-lf2g\n",
    "# example apple music feed : https://rss-bridge.org/bridge01/?action=display&bridge=AppleMusicBridge&artist=26485617&limit=10&format=Atom\n",
    "# Création d'une instance\n",
    "news_feed = feedparser.parse('https://rss-bridge.org/bridge01/?action=display&bridge=AppleMusicBridge&artist=26485617&limit=10&format=Atom')\n",
    "news_feed\n",
    "# Propriétés du flux\n",
    "print(news_feed.feed.keys())\n"
   ]
  },
  {
   "cell_type": "code",
   "execution_count": 4,
   "metadata": {},
   "outputs": [
    {
     "data": {
      "text/plain": [
       "{'title': 'Nesyu Beats - Avec Toi (feat. Soolking, Booba, Maes, Lynda, SDM & Niska) - Single',\n",
       " 'title_detail': {'type': 'text/html',\n",
       "  'language': None,\n",
       "  'base': 'https://rss-bridge.org/bridge01/?action=display&bridge=AppleMusicBridge&artist=26485617&limit=10&format=Atom',\n",
       "  'value': 'Nesyu Beats - Avec Toi (feat. Soolking, Booba, Maes, Lynda, SDM & Niska) - Single'},\n",
       " 'published': '2024-06-24T07:00:00+00:00',\n",
       " 'published_parsed': time.struct_time(tm_year=2024, tm_mon=6, tm_mday=24, tm_hour=7, tm_min=0, tm_sec=0, tm_wday=0, tm_yday=176, tm_isdst=0),\n",
       " 'updated': '2024-06-24T07:00:00+00:00',\n",
       " 'updated_parsed': time.struct_time(tm_year=2024, tm_mon=6, tm_mday=24, tm_hour=7, tm_min=0, tm_sec=0, tm_wday=0, tm_yday=176, tm_isdst=0),\n",
       " 'id': 'https://music.apple.com/us/album/avec-toi-feat-soolking-booba-maes-lynda-sdm-niska-single/1755565191?uo=4',\n",
       " 'guidislink': True,\n",
       " 'link': 'https://music.apple.com/us/album/avec-toi-feat-soolking-booba-maes-lynda-sdm-niska-single/1755565191?uo=4',\n",
       " 'links': [{'rel': 'alternate',\n",
       "   'type': 'text/html',\n",
       "   'href': 'https://music.apple.com/us/album/avec-toi-feat-soolking-booba-maes-lynda-sdm-niska-single/1755565191?uo=4'}],\n",
       " 'content': [{'type': 'text/html',\n",
       "   'language': None,\n",
       "   'base': 'https://rss-bridge.org/bridge01/?action=display&bridge=AppleMusicBridge&artist=26485617&limit=10&format=Atom',\n",
       "   'value': '<a href=\"https://music.apple.com/us/album/avec-toi-feat-soolking-booba-maes-lynda-sdm-niska-single/1755565191?uo=4\"><img src=\"https://is1-ssl.mzstatic.com/image/thumb/Music221/v4/e1/f7/56/e1f75693-48b2-4d40-83cb-efe01965542e/198588574881.jpg/100x100bb.jpg\" /></a><br /><br />Nesyu Beats - Avec Toi (feat. Soolking, Booba, Maes, Lynda, SDM & Niska) - Single<br />℗ 2024 Nesyu Beats'}],\n",
       " 'summary': '<a href=\"https://music.apple.com/us/album/avec-toi-feat-soolking-booba-maes-lynda-sdm-niska-single/1755565191?uo=4\"><img src=\"https://is1-ssl.mzstatic.com/image/thumb/Music221/v4/e1/f7/56/e1f75693-48b2-4d40-83cb-efe01965542e/198588574881.jpg/100x100bb.jpg\" /></a><br /><br />Nesyu Beats - Avec Toi (feat. Soolking, Booba, Maes, Lynda, SDM & Niska) - Single<br />℗ 2024 Nesyu Beats'}"
      ]
     },
     "execution_count": 4,
     "metadata": {},
     "output_type": "execute_result"
    }
   ],
   "source": [
    "news_feed['entries'][0]"
   ]
  },
  {
   "cell_type": "code",
   "execution_count": 9,
   "metadata": {},
   "outputs": [
    {
     "name": "stdout",
     "output_type": "stream",
     "text": [
      "Titre : Unboxing du Samsung Galaxy Z Fold 6📱\n",
      "URL : https://www.youtube.com/watch?v=P-ACzty7G-c\n",
      "ID : P-ACzty7G-c\n",
      "\n",
      "----------------------------------------------------------------------------------------------------\n",
      "Titre : Unboxing du Samsung Galaxy Z Flip 6📱\n",
      "URL : https://www.youtube.com/watch?v=GHglUTjudsA\n",
      "ID : GHglUTjudsA\n",
      "\n",
      "----------------------------------------------------------------------------------------------------\n",
      "Titre : Amazon Prime Days, idée de produits utiles !\n",
      "URL : https://www.youtube.com/watch?v=AK9rE-TUy8w\n",
      "ID : AK9rE-TUy8w\n",
      "\n",
      "----------------------------------------------------------------------------------------------------\n",
      "Titre : Votre chien va bientôt vous parler 🐶 ?\n",
      "URL : https://www.youtube.com/watch?v=AI5SuAUmisg\n",
      "ID : AI5SuAUmisg\n",
      "\n",
      "----------------------------------------------------------------------------------------------------\n",
      "Titre : iPad Air M2 ou iPad Pro M4, lequel choisir ?\n",
      "URL : https://www.youtube.com/watch?v=71lCijQ42HM\n",
      "ID : 71lCijQ42HM\n",
      "\n",
      "----------------------------------------------------------------------------------------------------\n",
      "Titre : Samsung Unpacked : Galaxy Ring 💍\n",
      "URL : https://www.youtube.com/watch?v=oo_78uCzsaI\n",
      "ID : oo_78uCzsaI\n",
      "\n",
      "----------------------------------------------------------------------------------------------------\n",
      "Titre : Samsung Unpacked : Galaxy Watch et Galaxy Buds⌚️🎧\n",
      "URL : https://www.youtube.com/watch?v=i6HiZhYzjqY\n",
      "ID : i6HiZhYzjqY\n",
      "\n",
      "----------------------------------------------------------------------------------------------------\n",
      "Titre : Samsung Unpacked : Galaxy Ring (en bref) 💍\n",
      "URL : https://www.youtube.com/watch?v=Rm5huztHW_s\n",
      "ID : Rm5huztHW_s\n",
      "\n",
      "----------------------------------------------------------------------------------------------------\n",
      "Titre : Samsung Unpacked : Galaxy Z Fold 6 🦋\n",
      "URL : https://www.youtube.com/watch?v=6HamJOVujVM\n",
      "ID : 6HamJOVujVM\n",
      "\n",
      "----------------------------------------------------------------------------------------------------\n",
      "Titre : Samsung Unpacked : Galaxy Z Flip 6 😍\n",
      "URL : https://www.youtube.com/watch?v=au9maGidXdA\n",
      "ID : au9maGidXdA\n",
      "\n",
      "----------------------------------------------------------------------------------------------------\n",
      "Titre : Une batterie qui dure 50 ans🔋\n",
      "URL : https://www.youtube.com/watch?v=CT-Of9cPPLk\n",
      "ID : CT-Of9cPPLk\n",
      "\n",
      "----------------------------------------------------------------------------------------------------\n",
      "Titre : Pourquoi le prix des iPhones augmente 💸 ?\n",
      "URL : https://www.youtube.com/watch?v=IMvNCoaulO0\n",
      "ID : IMvNCoaulO0\n",
      "\n",
      "----------------------------------------------------------------------------------------------------\n",
      "Titre : Comment la Russie sème le chaos sur les réseaux 🧐 ?\n",
      "URL : https://www.youtube.com/watch?v=LUmBtYTdIB0\n",
      "ID : LUmBtYTdIB0\n",
      "\n",
      "----------------------------------------------------------------------------------------------------\n",
      "Titre : Le PC portable qui double votre productivité ! (Asus Zenbook Duo 2024)\n",
      "URL : https://www.youtube.com/watch?v=FmtijFm7ds0\n",
      "ID : FmtijFm7ds0\n",
      "\n",
      "----------------------------------------------------------------------------------------------------\n",
      "Titre : N’achetez pas le Vision Pro sauf si… Rien 😅\n",
      "URL : https://www.youtube.com/watch?v=65deSVMZlsk\n",
      "ID : 65deSVMZlsk\n",
      "\n",
      "----------------------------------------------------------------------------------------------------\n"
     ]
    }
   ],
   "source": [
    "for v in news_feed['entries']:\n",
    "    print(f\"Titre : {v['title']}\\nURL : {v['link']}\\nID : {v['yt_videoid']}\\n\")\n",
    "    print('-'*100)"
   ]
  },
  {
   "cell_type": "code",
   "execution_count": 31,
   "metadata": {},
   "outputs": [
    {
     "ename": "IndexError",
     "evalue": "list index out of range",
     "output_type": "error",
     "traceback": [
      "\u001b[0;31m---------------------------------------------------------------------------\u001b[0m",
      "\u001b[0;31mIndexError\u001b[0m                                Traceback (most recent call last)",
      "Cell \u001b[0;32mIn[31], line 1\u001b[0m\n\u001b[0;32m----> 1\u001b[0m \u001b[43mnews_feed\u001b[49m\u001b[43m[\u001b[49m\u001b[38;5;124;43m'\u001b[39;49m\u001b[38;5;124;43mentries\u001b[39;49m\u001b[38;5;124;43m'\u001b[39;49m\u001b[43m]\u001b[49m\u001b[43m[\u001b[49m\u001b[38;5;241;43m0\u001b[39;49m\u001b[43m]\u001b[49m\n",
      "\u001b[0;31mIndexError\u001b[0m: list index out of range"
     ]
    }
   ],
   "source": [
    "news_feed['entries'][0]"
   ]
  },
  {
   "cell_type": "code",
   "execution_count": 15,
   "metadata": {},
   "outputs": [
    {
     "name": "stdout",
     "output_type": "stream",
     "text": [
      "dict_keys(['title', 'title_detail', 'links', 'link', 'comments', 'authors', 'author', 'author_detail', 'published', 'published_parsed', 'tags', 'id', 'guidislink', 'summary', 'summary_detail', 'wfw_commentrss', 'slash_comments'])\n"
     ]
    },
    {
     "data": {
      "text/plain": [
       "{'title': '🚘 V2C Trydan : Chargez grâce à vos panneaux solaires',\n",
       " 'title_detail': {'type': 'text/plain',\n",
       "  'language': None,\n",
       "  'base': 'https://lokan.jp/feed/',\n",
       "  'value': '🚘 V2C Trydan : Chargez grâce à vos panneaux solaires'},\n",
       " 'links': [{'rel': 'alternate',\n",
       "   'type': 'text/html',\n",
       "   'href': 'https://lokan.jp/2024/07/25/test-v2c-trydan-recharge-voiture-panneau-solaire/'}],\n",
       " 'link': 'https://lokan.jp/2024/07/25/test-v2c-trydan-recharge-voiture-panneau-solaire/',\n",
       " 'comments': 'https://lokan.jp/2024/07/25/test-v2c-trydan-recharge-voiture-panneau-solaire/#respond',\n",
       " 'authors': [{'name': 'LoKan Sardari'}],\n",
       " 'author': 'LoKan Sardari',\n",
       " 'author_detail': {'name': 'LoKan Sardari'},\n",
       " 'published': 'Thu, 25 Jul 2024 16:00:04 +0000',\n",
       " 'published_parsed': time.struct_time(tm_year=2024, tm_mon=7, tm_mday=25, tm_hour=16, tm_min=0, tm_sec=4, tm_wday=3, tm_yday=207, tm_isdst=0),\n",
       " 'tags': [{'term': 'TESLA', 'scheme': None, 'label': None},\n",
       "  {'term': 'borne recharge', 'scheme': None, 'label': None},\n",
       "  {'term': 'borne type 2', 'scheme': None, 'label': None},\n",
       "  {'term': 'dynamique', 'scheme': None, 'label': None},\n",
       "  {'term': 'énergie solaire', 'scheme': None, 'label': None},\n",
       "  {'term': 'marque espagnole', 'scheme': None, 'label': None},\n",
       "  {'term': 'panneaux solaires', 'scheme': None, 'label': None},\n",
       "  {'term': 'recharge', 'scheme': None, 'label': None},\n",
       "  {'term': 'recharge à domicile', 'scheme': None, 'label': None},\n",
       "  {'term': 'recharge solaire', 'scheme': None, 'label': None},\n",
       "  {'term': 'Solaire', 'scheme': None, 'label': None},\n",
       "  {'term': 'trydan', 'scheme': None, 'label': None},\n",
       "  {'term': 'v2C trydan', 'scheme': None, 'label': None},\n",
       "  {'term': 'voiture', 'scheme': None, 'label': None},\n",
       "  {'term': 'voiture solaire', 'scheme': None, 'label': None}],\n",
       " 'id': 'https://lokan.jp/?p=38927',\n",
       " 'guidislink': False,\n",
       " 'summary': '<img alt=\"\" class=\"webfeedsFeaturedVisual wp-post-image\" height=\"720\" src=\"https://lokan.jp/wp-content/uploads/2024/07/Test-borne-V2C-Trydan-1280x720.jpg\" style=\"display: block; margin: auto; margin-bottom: 20px;\" width=\"1280\" />Nous avons vu dans un précédent article les différentes façon de recharger son véhicule à domicile. Parmi elles, on retrouve la borne de recharge dédiée, et aujourd’hui nous allons découvrir ensemble le modèle Trydan de chez V2C, qui propose des fonctionnalités très intéressantes.',\n",
       " 'summary_detail': {'type': 'text/html',\n",
       "  'language': None,\n",
       "  'base': 'https://lokan.jp/feed/',\n",
       "  'value': '<img alt=\"\" class=\"webfeedsFeaturedVisual wp-post-image\" height=\"720\" src=\"https://lokan.jp/wp-content/uploads/2024/07/Test-borne-V2C-Trydan-1280x720.jpg\" style=\"display: block; margin: auto; margin-bottom: 20px;\" width=\"1280\" />Nous avons vu dans un précédent article les différentes façon de recharger son véhicule à domicile. Parmi elles, on retrouve la borne de recharge dédiée, et aujourd’hui nous allons découvrir ensemble le modèle Trydan de chez V2C, qui propose des fonctionnalités très intéressantes.'},\n",
       " 'wfw_commentrss': 'https://lokan.jp/2024/07/25/test-v2c-trydan-recharge-voiture-panneau-solaire/feed/',\n",
       " 'slash_comments': '0'}"
      ]
     },
     "execution_count": 15,
     "metadata": {},
     "output_type": "execute_result"
    }
   ],
   "source": [
    "\n",
    "# Propriétés de chaque item du flux\n",
    "print(news_feed.entries[0].keys())\n",
    "news_feed.entries[0]"
   ]
  },
  {
   "cell_type": "code",
   "execution_count": null,
   "metadata": {},
   "outputs": [],
   "source": [
    "\n",
    "for entry in news_feed.entries:\n",
    "    print(f\"{entry.title} --> {entry.link}\")\n",
    "    \n",
    "# Récupération du deernier feed (dernier bulletin CERT-FR)\n",
    "for i in range(0, len(news_feed.entries)):\n",
    "    if i == (len(news_feed.entries)-1):\n",
    "        print(\"Alert: {} \\nLink: {}\".format(news_feed.entries[0]['title'], news_feed.entries[0]['id']))\n"
   ]
  },
  {
   "cell_type": "code",
   "execution_count": 16,
   "metadata": {},
   "outputs": [
    {
     "name": "stdout",
     "output_type": "stream",
     "text": [
      "1721923204.0\n"
     ]
    }
   ],
   "source": [
    "from datetime import datetime\n",
    "\n",
    "# Given date string\n",
    "date_string = \"Thu, 25 Jul 2024 16:00:04 +0000\"\n",
    "\n",
    "# Parse the date string into a datetime object\n",
    "dt = datetime.strptime(date_string, \"%a, %d %b %Y %H:%M:%S %z\")\n",
    "\n",
    "# Convert the datetime object to a timestamp\n",
    "timestamp = dt.timestamp()\n",
    "\n",
    "print(timestamp)"
   ]
  },
  {
   "cell_type": "code",
   "execution_count": 1,
   "metadata": {},
   "outputs": [],
   "source": [
    "from src.todoist import TodoistApi, TodoistAuth, TaskManager\n",
    "\n",
    "ta = TodoistAuth('d5bd4336da1f5cabea70766409fc1dffddc33fc0')\n",
    "tapi = TodoistApi(ta)\n",
    "tm = TaskManager(tapi)"
   ]
  },
  {
   "cell_type": "code",
   "execution_count": 2,
   "metadata": {},
   "outputs": [
    {
     "data": {
      "text/plain": [
       "[{'id': '162180255', 'project_id': '2336934522', 'order': 1, 'name': 'Booba'}]"
      ]
     },
     "execution_count": 2,
     "metadata": {},
     "output_type": "execute_result"
    }
   ],
   "source": [
    "tm.get_all_sections('2336934522')"
   ]
  },
  {
   "cell_type": "code",
   "execution_count": 5,
   "metadata": {},
   "outputs": [],
   "source": [
    "resu = tm.add_section('2336934522', 'Disiz')"
   ]
  },
  {
   "cell_type": "code",
   "execution_count": 6,
   "metadata": {},
   "outputs": [],
   "source": [
    "resu"
   ]
  },
  {
   "cell_type": "code",
   "execution_count": null,
   "metadata": {},
   "outputs": [],
   "source": []
  }
 ],
 "metadata": {
  "kernelspec": {
   "display_name": "venv",
   "language": "python",
   "name": "python3"
  },
  "language_info": {
   "codemirror_mode": {
    "name": "ipython",
    "version": 3
   },
   "file_extension": ".py",
   "mimetype": "text/x-python",
   "name": "python",
   "nbconvert_exporter": "python",
   "pygments_lexer": "ipython3",
   "version": "3.12.4"
  }
 },
 "nbformat": 4,
 "nbformat_minor": 2
}
